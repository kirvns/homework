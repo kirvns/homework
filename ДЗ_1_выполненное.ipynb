{
  "nbformat": 4,
  "nbformat_minor": 0,
  "metadata": {
    "kernelspec": {
      "display_name": "Python 3",
      "language": "python",
      "name": "python3"
    },
    "language_info": {
      "codemirror_mode": {
        "name": "ipython",
        "version": 3
      },
      "file_extension": ".py",
      "mimetype": "text/x-python",
      "name": "python",
      "nbconvert_exporter": "python",
      "pygments_lexer": "ipython3",
      "version": "3.8.2"
    },
    "colab": {
      "name": "ДЗ_1 выполненное.ipynb",
      "provenance": [],
      "collapsed_sections": []
    }
  },
  "cells": [
    {
      "cell_type": "markdown",
      "metadata": {
        "id": "gk3dFIGyqrdU"
      },
      "source": [
        "## Задание 1: (условия if-elif-else)\n",
        "\n",
        "В ячейке ниже - код \"определителя усталости\". Давайте его улучшим:\n",
        "\n",
        "- добавьте условие для случаев,если пользователь вводит число больше 10\n",
        "\n",
        "- добавьте еще одно или два условия, чтобы разделение на категории усталости было еще точнее\n",
        "\n",
        "Подсказка: может помочь нарисовать себе схему условий на бумаге\n"
      ]
    },
    {
      "cell_type": "code",
      "metadata": {
        "colab": {
          "base_uri": "https://localhost:8080/"
        },
        "id": "Et2U89JEqrdW",
        "outputId": "269f4023-39cd-4987-bd38-1114d5674bdb"
      },
      "source": [
        "#@title Текст заголовка по умолчанию\n",
        "# определитель усталости\n",
        "\n",
        "a = float(input('по шкале от 0 до 10, напишите, насколько Вы устали: '))\n",
        "if 0 <= a <= 3:\n",
        "    print('Вы полны сил')\n",
        "elif 3 < a < 7:\n",
        "  print('Кажется, Вы совсем не устали')    \n",
        "elif 7.0 <= a <= 8.4:\n",
        "    print('Вы немного устали')\n",
        "# Ваш код дальше:\n",
        "elif 8.4 < a <= 10.0:\n",
        "  print('Вам пора отдохнуть')\n",
        "elif a > 10:\n",
        "  print('Немедленно отдыхайте!')  "
      ],
      "execution_count": null,
      "outputs": [
        {
          "output_type": "stream",
          "name": "stdout",
          "text": [
            "по шкале от 0 до 10, напишите, насколько Вы устали: 11\n",
            "Немедленно отдыхайте!\n"
          ]
        }
      ]
    },
    {
      "cell_type": "markdown",
      "metadata": {
        "id": "sFPU_vRgqrdY"
      },
      "source": [
        "### Задача 2 (списки и циклы)\n",
        "Робот, выбирающий пользователю коктейль:\n",
        "\n",
        "Представьте, что Вы разрабатываете (фрагмент) электронного помощника для ресторана. \n",
        "\n",
        "У Вас есть список коктейлей, где каждый коктейль представлен в виде списка ингридиентов (у нас получается список списков). Программа рандомным образом должна выбрать один из коктейлей (т.е. один из списков в общем списке) и вывести на экран сообщение: \"Сегодня в вашем коктейле будет: \" и сам список ингридиентов\n",
        "\n",
        "Но есть одно условие: в некоторые из списков по ошибке попал \"лосось\". Строку \"лосось\" нужно убрать *(здесь вам поможет один метод работы со списками)* ,но так как лосось есть не везде, нужно предварительно проверить его наличие в списке."
      ]
    },
    {
      "cell_type": "code",
      "metadata": {
        "colab": {
          "base_uri": "https://localhost:8080/"
        },
        "id": "PCruuA50qrdY",
        "outputId": "b222097b-329a-4bcd-cfbd-41ebd70a20c9"
      },
      "source": [
        "import random\n",
        "\n",
        "cocktails = [\n",
        "    [\"мартини\",\"грейпфрутовый сок\",\"жасмин\",\"тоник\",\"лосось\"],\n",
        "    [\"клубника\",\"какао\",\"мята\",\"марсала\"],\n",
        "    [\"водка\",\"томатный сок\",\"лимонный сок\",\"вустерширский соус\",\"черный перец\",\"сельдерей\",\"лосось\"],\n",
        "    [\"джин\",\"вермут\",\"ликер мараскино\",\"апельсины\",\"коктейльная вишня\",\"лосось\"],\n",
        "    [\"ром\",\"авокадо\",\"сахарный сироп\",\"сливки\",\"лимонный сок\",\"лед\"],\n",
        "    [\"красный вермут\",\"тоник\",\"апельсины\",\"лосось\"],\n",
        "    [\"только чай\"]\n",
        "        ]\n",
        "#Ваш код\n",
        "\n",
        "for i in cocktails:\n",
        "  if \"лосось\" in i:\n",
        "    i.remove('лосось')\n",
        "a = random.choice(cocktails)  \n",
        "print(\"Сегодня в вашем коктейле будет:\", a)"
      ],
      "execution_count": null,
      "outputs": [
        {
          "output_type": "stream",
          "name": "stdout",
          "text": [
            "Сегодня в вашем коктейле будет: ['ром', 'авокадо', 'сахарный сироп', 'сливки', 'лимонный сок', 'лед']\n"
          ]
        }
      ]
    },
    {
      "cell_type": "markdown",
      "metadata": {
        "id": "6lCEa4qtqrdZ"
      },
      "source": [
        "### Задание 3 (словари)"
      ]
    },
    {
      "cell_type": "markdown",
      "metadata": {
        "id": "GGBmHxkHqrdZ"
      },
      "source": [
        "Алиса коллекционирует открыткм, которые она получила из разных стран от друзей. Она знает, что Мария прислала ей открытку из Лондона, Лоренцо -- из Милана, Олег - из Канберры, Ханс -- из Кальгари, Марк -- тоже из Милана, Алекс - из Кракова, и совсем недавно пришла открытка от Юлии из Мурманска. \n",
        "\n",
        "Сейчас ее архив выглядит вот так:\n",
        "```\n",
        "postcards = {\n",
        "    \"Maria\":\"London\",\n",
        "    \"Lorenzo\":\"Milan\",\n",
        "    \"Oleg\":\"Canberra\",\n",
        "    \"Hans\":\"Calgary\",\n",
        "    \"Mark\":\"Milan\",\n",
        "    \"Alex\":\"Krakow\",\n",
        "    \"Julia\":\"Murmansk\"\n",
        "    \n",
        "}\n",
        "```\n",
        "\n",
        "Однажды Алиса показала Вам свою бумажную коллекцию, и Вы заметили неточности: \n",
        "\n",
        "- в архиве не хватает двух открыток: от Петры из Парижа и от Ивана из Москвы. Добавьте их в архив Алисы.\n",
        "\n",
        "- открытка, присланная Олегом на самом деле не из Канберры, а из Сиднея.\n",
        "Исправьте город на верный, изменив значение по ключу в словаре.\n",
        "\n",
        "- Алиса говорит, что в ее коллекции более 10 уникальных городов. Сколько их на самом деле? Выведите названия этих городов."
      ]
    },
    {
      "cell_type": "code",
      "metadata": {
        "colab": {
          "base_uri": "https://localhost:8080/"
        },
        "id": "EBwXWqBzBKmv",
        "outputId": "b07a3ffb-5150-4b7d-9768-f89366d0cbbe"
      },
      "source": [
        "postcards = {\n",
        "    \"Maria\":\"London\",\n",
        "    \"Lorenzo\":\"Milan\",\n",
        "    \"Oleg\":\"Canberra\",\n",
        "    \"Hans\":\"Calgary\",\n",
        "    \"Mark\":\"Milan\",\n",
        "    \"Alex\":\"Krakow\",\n",
        "    \"Julia\":\"Murmansk\"\n",
        "\n",
        "}\n",
        "new = {\"Petra\": \"Paris\", \"Ivan\": \"Moscow\"}\n",
        "postcards.update(new)\n",
        "postcards"
      ],
      "execution_count": null,
      "outputs": [
        {
          "output_type": "execute_result",
          "data": {
            "text/plain": [
              "{'Alex': 'Krakow',\n",
              " 'Hans': 'Calgary',\n",
              " 'Ivan': 'Moscow',\n",
              " 'Julia': 'Murmansk',\n",
              " 'Lorenzo': 'Milan',\n",
              " 'Maria': 'London',\n",
              " 'Mark': 'Milan',\n",
              " 'Oleg': 'Canberra',\n",
              " 'Petra': 'Paris'}"
            ]
          },
          "metadata": {},
          "execution_count": 40
        }
      ]
    },
    {
      "cell_type": "code",
      "metadata": {
        "colab": {
          "base_uri": "https://localhost:8080/"
        },
        "id": "CWOgV30Jqrda",
        "outputId": "534ae160-c371-457f-8fd5-cd5464d46f4e"
      },
      "source": [
        "postcards['Oleg'] = \"Sidney\"\n",
        "postcards"
      ],
      "execution_count": null,
      "outputs": [
        {
          "output_type": "execute_result",
          "data": {
            "text/plain": [
              "{'Alex': 'Krakow',\n",
              " 'Hans': 'Calgary',\n",
              " 'Ivan': 'Moscow',\n",
              " 'Julia': 'Murmansk',\n",
              " 'Lorenzo': 'Milan',\n",
              " 'Maria': 'London',\n",
              " 'Mark': 'Milan',\n",
              " 'Oleg': 'Sidney',\n",
              " 'Petra': 'Paris'}"
            ]
          },
          "metadata": {},
          "execution_count": 41
        }
      ]
    },
    {
      "cell_type": "code",
      "metadata": {
        "id": "2L2Wdnnzqrda"
      },
      "source": [
        "sity = postcards.values()\n",
        "l = len(set(sity))"
      ],
      "execution_count": null,
      "outputs": []
    },
    {
      "cell_type": "code",
      "metadata": {
        "colab": {
          "base_uri": "https://localhost:8080/"
        },
        "id": "qk79fLr3qrda",
        "outputId": "0e160614-ba14-4592-8db2-a135cb6909c1"
      },
      "source": [
        "print(sity, l)"
      ],
      "execution_count": null,
      "outputs": [
        {
          "output_type": "stream",
          "name": "stdout",
          "text": [
            "dict_values(['London', 'Milan', 'Sidney', 'Calgary', 'Milan', 'Krakow', 'Murmansk', 'Paris', 'Moscow']) 8\n"
          ]
        }
      ]
    },
    {
      "cell_type": "code",
      "metadata": {
        "colab": {
          "base_uri": "https://localhost:8080/"
        },
        "id": "OoP77O5wty1l",
        "outputId": "5456ebfd-b741-4f64-afe5-ac7abed7142a"
      },
      "source": [
        "import string\n",
        "paul = \"\"\"When this film first came out in 1980, I remember going to see it on opening night. This movie just scared the life out of me, which is what still happens every time\n",
        "I rent the video for a re-watch.I have seen The Shining at least six or seven times, and I still believe it to be simultaneously and paradoxically one of the most frightening and yet funniest films I've ever seen. Frightening because of the extraordinarily effective use of long shots to create feelings of isolation, convex lens shots to enhance surrealism, and meticulously scored music to bring tension levels to virtually unbearable levels. And \\\"funny\\\" because of Jack Nicholson's outrageous and in many cases ad-libbed onscreen antics. It never ceases to amaze me how The Shining is actually two films in one, both a comedy AND a horror flick. Ghostly apparitions of a strikingly menacing nature haunt much of the first half of the film, which gradually evolve into ever more serious physical threats as time progresses. Be that as it may, there is surprisingly little violence given the apparent intensity, but that is little comfort \n",
        "for the feint of heart as much of the terror is more implied than manifest. The Shining is a truly frightening movie that works symbolically on many levels, but is basically  about human shortcomings and the way they can be exploited by unconscious forces combined with weakness of will. This film scares the most just by using suggestion to turn your own imagination against you. The Shining is a brilliant cinematic masterpiece, the likes of which have never been seen before or since. Highly, highly recommended.\"\"\"\n",
        "jane = \"\"\"Chilling, majestic piece of cinematic fright, this film combines all the great elements of an intellectual thriller, with the grand vision of a director who has the instinctual capacity to pace a moody horror flick within the realm of his filmmaking genius that includes an eye for the original shot, an ice-cold soundtrack and an overall sense of dehumanization. This movie cuts through all the typical horror\n",
        "movies like a red-poker through a human eye, as it allows the viewer to not only feel the violence and psychosis of its protagonist, but appreciate the seed from which the derangement stems. One of the scariest things for people\n",
        "to face is the unknown and this film presents its plotting with just that thought in mind. The setting is perfect, in a desolate winter hideaway. The quietness of the moment is a character in itself, as the fermenting aggressor in Jack Torrance's mind wallows in this idle time, and breeds the devil's new playground. I always felt like the presence of evil was dormant in all of our minds, with only the circumstances of the moment, and the reasons given therein, needed to wake its violent ass and pounce over its unsuspecting victims. This film is a perfect example of this very thought.\"\"\"\n",
        "kate = \"\"\"What can I say about the scariest movie I have ever seen that has not already been said by others more articulate than yours truly? Do not view this film expecting to see a screen version of the Stephen King novel.\n",
        "Rather, this is a Stanley Kubrick film, and to fully appreciate it one should judge it within the context of Kubrick's entire body of work as a serious filmmaker. Thematically, THE SHINING relates most closely to 2001:\n",
        "A SPACE ODYSSEY, though flourishes of PATHS OF GLORY, A CLOCKWORK ORANGE and BARRY LYNDON do manage to figure prominently in the film's overall technique. In a nutshell (no pun intended), Jack Nicholson and Shelly Duvall co-star with Oregon's Timberline Lodge - enlisted to portray the exterior of the Overlook Hotel - in a story that appears on the surface to be about ghosts and insanity, but deals with issues of child abuse, \n",
        "immortality and duality. What the film might lack initially in terms of coherence is more than made up for in technique. Garrett Brown (the male voice in those old Molson Golden commercials), inventor of the Steadicam,chases young Danny Lloyd through hotel corridors and an amazing snow maze, providing magic-carpet-ride fluidity to scenes that ten years earlier would have been impossible to accomplish. If the film starts off too slow, remember who the director is. This man likes to take his time, and the results are well worth it: incredible aerial shots of the Overlook Hotel; horrific Diane Arbus-inspired twins staring directly at us; portentous room 237 and its treasure trove of terrible secrets; elevators that gush rivers of blood in slow-motion; Jack Torrance's immortality found via the hotel (akin to David Bowman's journey through the Space Gate); and some of the best use of pre-existing music ever assembled for a motion picture.\"\"\"\n",
        "nick = \"\"\"I was never a big fan of horror movies. They usually try cheap tricks to scare their audiences like loud noises and creepy children. They usually lack originality and contain overacting galore. The only horror movie i\n",
        "like was Stir of Echoes with Kevin Bacon. It was well-acted, and had a great story. But it has been joined and maybe even surpassed by Stanley Kubrick's The Shining, quite possibly the scariest movie ever. The movie follows a writer (Jack Nicholson) and his family who agree to watch over a hotel while it is closed for the winter. There were rumors of the place being haunted and the last resident went crazy and murdered his family. But Jack is convinced it will be OK and he can use the quiet to overcome his writer's block. After months of solitude and silence however, Jack becomes a grumpy and later violent. Is it cabin fever or is there something in the hotel that is driving him mad? One of the creepiest parts about the movie is the feeling of isolation that Kubrick makes. The hotel is very silent, and the rooms are huge, yet always empty. It is also eerily calm when Jack's son is riding his bike through the barren hallways. Jack Nicholson's performance is also one of his very best, scaring the hell out of me and making me sure to get out once in awhile. My favorite scene is when he is talking to a ghost from inside a walk-in refrigerator. The Shining is tops for horror movies in my opinion, beating the snot out of crap like the Ring and The Blair Witch Project. It may be a oldie, but is definitely a goodie.\"\"\"\n",
        "t = \"YjhhjY Jjjl\"\n",
        "paul = paul.lower()\n",
        "paul = paul.translate(str.maketrans(\"\",\"\",string.punctuation))\n",
        "jane = jane.lower()\n",
        "jane = jane.translate(str.maketrans(\"\",\"\",string.punctuation))\n",
        "kate = kate.lower()\n",
        "kate = kate.translate(str.maketrans(\"\",\"\",string.punctuation))\n",
        "nick = nick.lower()\n",
        "nick = nick.translate(str.maketrans(\"\",\"\",string.punctuation))\n",
        "paul = paul.split()\n",
        "jane = jane.split()\n",
        "kate = kate.split()\n",
        "nick = nick.split()\n",
        "paul = len(set(paul))\n",
        "jane = len(set(jane))\n",
        "kate = len(set(kate))\n",
        "nick = len(set(nick))\n",
        "name_list = [paul,jane,kate,nick]\n",
        "max_value = max(name_list)\n",
        "max_index = name_list.index(max_value)\n",
        "if max_index == 1:\n",
        "  print('Paul', max_value)\n",
        "elif max_index == 2:\n",
        "  print('Jane', max_value)\n",
        "elif max_index == 3:\n",
        "  print('Kate', max_value)\n",
        "else:\n",
        "  print('Nick', max_value)\n"
      ],
      "execution_count": 10,
      "outputs": [
        {
          "output_type": "stream",
          "name": "stdout",
          "text": [
            "Jane 208\n"
          ]
        }
      ]
    }
  ]
}