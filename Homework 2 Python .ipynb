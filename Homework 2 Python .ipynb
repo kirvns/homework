{
 "cells": [
  {
   "cell_type": "code",
   "execution_count": 121,
   "id": "b3f0075a",
   "metadata": {},
   "outputs": [
    {
     "name": "stdout",
     "output_type": "stream",
     "text": [
      "Requirement already satisfied: requests in c:\\users\\79608\\appdata\\local\\programs\\python\\python310\\lib\\site-packages (2.27.1)\n",
      "Requirement already satisfied: idna<4,>=2.5 in c:\\users\\79608\\appdata\\local\\programs\\python\\python310\\lib\\site-packages (from requests) (3.3)\n",
      "Requirement already satisfied: urllib3<1.27,>=1.21.1 in c:\\users\\79608\\appdata\\local\\programs\\python\\python310\\lib\\site-packages (from requests) (1.26.8)\n",
      "Requirement already satisfied: certifi>=2017.4.17 in c:\\users\\79608\\appdata\\local\\programs\\python\\python310\\lib\\site-packages (from requests) (2021.10.8)\n",
      "Requirement already satisfied: charset-normalizer~=2.0.0 in c:\\users\\79608\\appdata\\local\\programs\\python\\python310\\lib\\site-packages (from requests) (2.0.11)\n"
     ]
    },
    {
     "name": "stderr",
     "output_type": "stream",
     "text": [
      "WARNING: You are using pip version 21.2.3; however, version 22.0.3 is available.\n",
      "You should consider upgrading via the 'C:\\Users\\79608\\AppData\\Local\\Programs\\Python\\Python310\\python.exe -m pip install --upgrade pip' command.\n"
     ]
    },
    {
     "name": "stdout",
     "output_type": "stream",
     "text": [
      "Requirement already satisfied: beautifulsoup4 in c:\\users\\79608\\appdata\\local\\programs\\python\\python310\\lib\\site-packages (4.10.0)\n",
      "Requirement already satisfied: soupsieve>1.2 in c:\\users\\79608\\appdata\\local\\programs\\python\\python310\\lib\\site-packages (from beautifulsoup4) (2.3.1)\n"
     ]
    },
    {
     "name": "stderr",
     "output_type": "stream",
     "text": [
      "WARNING: You are using pip version 21.2.3; however, version 22.0.3 is available.\n",
      "You should consider upgrading via the 'C:\\Users\\79608\\AppData\\Local\\Programs\\Python\\Python310\\python.exe -m pip install --upgrade pip' command.\n"
     ]
    }
   ],
   "source": [
    "! pip3 install requests --progress-bar off\n",
    "! pip3 install beautifulsoup4 --progress-bar off\n",
    "import requests as rq \n",
    "import pandas as pd \n",
    "import re \n",
    "from bs4 import BeautifulSoup "
   ]
  },
  {
   "cell_type": "code",
   "execution_count": 2,
   "id": "a2519aa8",
   "metadata": {},
   "outputs": [],
   "source": [
    "url = 'https://www.vedomosti.ru/ecology/release/2021/09/01'\n",
    "page = rq.get(url)"
   ]
  },
  {
   "cell_type": "code",
   "execution_count": 3,
   "id": "1f92b634",
   "metadata": {
    "scrolled": false
   },
   "outputs": [],
   "source": [
    "soup = BeautifulSoup(page.text, 'html.parser')\n",
    "# print(soup.prettify())"
   ]
  },
  {
   "cell_type": "code",
   "execution_count": 66,
   "id": "44846ea0",
   "metadata": {},
   "outputs": [],
   "source": [
    "# Источник новости\n",
    "links = []\n",
    "for x in soup.find_all('a', class_ = \"articles-cards-list__card card-article cols-1 rows-3 --article\"):\n",
    "    links.append(x.get('href'))"
   ]
  },
  {
   "cell_type": "code",
   "execution_count": 35,
   "id": "dc2664cc",
   "metadata": {},
   "outputs": [],
   "source": [
    "# Дата новости\n",
    "datetime = []\n",
    "for x in soup.find_all('time', class_='card-article__date'):\n",
    "    datetime.append(x.text)"
   ]
  },
  {
   "cell_type": "code",
   "execution_count": 37,
   "id": "77da3e6d",
   "metadata": {},
   "outputs": [],
   "source": [
    "# Заголовок новости\n",
    "titles = [] \n",
    "for x in soup.find_all('span', class_='card-article__title'):\n",
    "    titles.append(x.text)\n",
    "titles = [x for x in titles if x != '']    "
   ]
  },
  {
   "cell_type": "code",
   "execution_count": 105,
   "id": "7d508616",
   "metadata": {},
   "outputs": [],
   "source": [
    "# Текст новости\n",
    "subtitles = []\n",
    "for x in soup.find_all('p', class_='card-article__subtitle'):\n",
    "    subtitles.append(x.text)\n",
    "# subtitle = re.sub('\\xa0', ' ', subtitles)   \n",
    "\n",
    "subtitles2 = []\n",
    "for elem in subtitles:\n",
    "    elem = re.sub('\\xa0', ' ',elem)\n",
    "    subtitles2.append(elem) "
   ]
  },
  {
   "cell_type": "code",
   "execution_count": 109,
   "id": "c892d434",
   "metadata": {},
   "outputs": [],
   "source": [
    "econews_dict={\"Источник\": links, \"Дата\": datetime, \"Заголовок\": titles, \"Текст\": subtitles2}"
   ]
  },
  {
   "cell_type": "code",
   "execution_count": 110,
   "id": "0c768aaa",
   "metadata": {},
   "outputs": [],
   "source": [
    "econews = pd.DataFrame.from_dict(econews_dict, orient=\"columns\")"
   ]
  },
  {
   "cell_type": "code",
   "execution_count": 114,
   "id": "c81c46e8",
   "metadata": {},
   "outputs": [
    {
     "data": {
      "text/html": [
       "<div>\n",
       "<style scoped>\n",
       "    .dataframe tbody tr th:only-of-type {\n",
       "        vertical-align: middle;\n",
       "    }\n",
       "\n",
       "    .dataframe tbody tr th {\n",
       "        vertical-align: top;\n",
       "    }\n",
       "\n",
       "    .dataframe thead th {\n",
       "        text-align: right;\n",
       "    }\n",
       "</style>\n",
       "<table border=\"1\" class=\"dataframe\">\n",
       "  <thead>\n",
       "    <tr style=\"text-align: right;\">\n",
       "      <th></th>\n",
       "      <th>Источник</th>\n",
       "      <th>Дата</th>\n",
       "      <th>Заголовок</th>\n",
       "      <th>Текст</th>\n",
       "    </tr>\n",
       "  </thead>\n",
       "  <tbody>\n",
       "    <tr>\n",
       "      <th>0</th>\n",
       "      <td>/ecology/articles/2021/09/01/884775-promishlen...</td>\n",
       "      <td>02.09.2021</td>\n",
       "      <td>Промышленность сокращает углеродный след</td>\n",
       "      <td>ТМК инвестирует 2,9 млрд руб. в сокращение выб...</td>\n",
       "    </tr>\n",
       "    <tr>\n",
       "      <th>1</th>\n",
       "      <td>/ecology/articles/2021/09/01/884776-esg-igri</td>\n",
       "      <td>02.09.2021</td>\n",
       "      <td>ESG нужны правила игры</td>\n",
       "      <td>Российскому бизнесу в ESG-сегменте не хватает ...</td>\n",
       "    </tr>\n",
       "    <tr>\n",
       "      <th>2</th>\n",
       "      <td>/ecology/articles/2021/09/02/884777-zelenii-sbera</td>\n",
       "      <td>02.09.2021</td>\n",
       "      <td>Зеленый микроклимат Сбера</td>\n",
       "      <td>От бизнеса ждут серьезных шагов по декарбониза...</td>\n",
       "    </tr>\n",
       "    <tr>\n",
       "      <th>3</th>\n",
       "      <td>/ecology/articles/2021/09/02/884778-dengi-zele...</td>\n",
       "      <td>02.09.2021</td>\n",
       "      <td>Деньги в зеленых тонах</td>\n",
       "      <td>Сбербанк к середине 2021 г. выдал уже около 75...</td>\n",
       "    </tr>\n",
       "    <tr>\n",
       "      <th>4</th>\n",
       "      <td>/ecology/articles/2021/09/02/884779-premialnay...</td>\n",
       "      <td>02.09.2021</td>\n",
       "      <td>Премиальная безуглеродность</td>\n",
       "      <td>«Норникель» начал выпускать углеродно-нейтраль...</td>\n",
       "    </tr>\n",
       "  </tbody>\n",
       "</table>\n",
       "</div>"
      ],
      "text/plain": [
       "                                            Источник         Дата  \\\n",
       "0  /ecology/articles/2021/09/01/884775-promishlen...   02.09.2021   \n",
       "1       /ecology/articles/2021/09/01/884776-esg-igri   02.09.2021   \n",
       "2  /ecology/articles/2021/09/02/884777-zelenii-sbera   02.09.2021   \n",
       "3  /ecology/articles/2021/09/02/884778-dengi-zele...   02.09.2021   \n",
       "4  /ecology/articles/2021/09/02/884779-premialnay...   02.09.2021   \n",
       "\n",
       "                                  Заголовок  \\\n",
       "0  Промышленность сокращает углеродный след   \n",
       "1                    ESG нужны правила игры   \n",
       "2                 Зеленый микроклимат Сбера   \n",
       "3                    Деньги в зеленых тонах   \n",
       "4               Премиальная безуглеродность   \n",
       "\n",
       "                                               Текст  \n",
       "0  ТМК инвестирует 2,9 млрд руб. в сокращение выб...  \n",
       "1  Российскому бизнесу в ESG-сегменте не хватает ...  \n",
       "2  От бизнеса ждут серьезных шагов по декарбониза...  \n",
       "3  Сбербанк к середине 2021 г. выдал уже около 75...  \n",
       "4  «Норникель» начал выпускать углеродно-нейтраль...  "
      ]
     },
     "metadata": {},
     "output_type": "display_data"
    }
   ],
   "source": [
    "display(econews)"
   ]
  },
  {
   "cell_type": "code",
   "execution_count": 118,
   "id": "ec245a7e",
   "metadata": {},
   "outputs": [],
   "source": [
    "econews.to_csv(\"homework2.csv\")"
   ]
  }
 ],
 "metadata": {
  "kernelspec": {
   "display_name": "Python 3 (ipykernel)",
   "language": "python",
   "name": "python3"
  },
  "language_info": {
   "codemirror_mode": {
    "name": "ipython",
    "version": 3
   },
   "file_extension": ".py",
   "mimetype": "text/x-python",
   "name": "python",
   "nbconvert_exporter": "python",
   "pygments_lexer": "ipython3",
   "version": "3.10.0"
  }
 },
 "nbformat": 4,
 "nbformat_minor": 5
}
